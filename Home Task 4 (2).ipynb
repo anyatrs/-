{
 "cells": [
  {
   "cell_type": "markdown",
   "id": "521fafa3",
   "metadata": {},
   "source": [
    "# Домашнее задание №4\n",
    "## (Адаптационный курс)"
   ]
  },
  {
   "cell_type": "markdown",
   "id": "e9ce3a33",
   "metadata": {},
   "source": [
    "**Описание данных**\n",
    "\n",
    "Вам нужно помочь секретарю автоматизировать работу. Для этого нужно написать программу, которая будет на основе хранимых данных исполнять пользовательские команды.\n",
    "\n",
    "Исходные данные имеют следующую структуру:\n",
    "\n",
    "1. перечень всех документов\n",
    "\n",
    "documents = [\n",
    "{‘type’: ‘passport’, ‘number’: ‘2207 876234’, ‘name’: ‘Василий Гупкин’},\n",
    "{‘type’: ‘invoice’, ‘number’: ‘11-2’, ‘name’: ‘Геннадий Покемонов’},\n",
    "{‘type’: ‘insurance’, ‘number’: ‘10006’, ‘name’: ‘Аристарх Павлов’}\n",
    "]\n",
    "\n",
    "2. перечень полок, на которых хранятся документы (если документ есть в documents, он обязательно должен быть и в directories)\n",
    "\n",
    "directories = {\n",
    "‘1’: [‘2207 876234’, ‘11-2’],\n",
    "‘2’: [‘10006’],\n",
    "‘3’: []\n",
    "}\n",
    "\n",
    "**Общие требования к программе:**\n",
    "\n",
    "- код должен быть грамотно декомпозирован: каждая функция отвечает за свою конкретную задачу, дублирующиеся функции переиспользуются, а их код не повторяется;\n",
    "- в коде отсутствуют глобальные переменные, за исключением documents и directories;\n",
    "- пользовательский ввод обрабатывается в цикле while до тех пор, пока пользователь явно не завершит программу вводом команды «q».\n"
   ]
  },
  {
   "cell_type": "markdown",
   "id": "93d0ff8c",
   "metadata": {},
   "source": [
    "\n",
    "**Задание №1**\n",
    "Пользователь по команде «p» может узнать владельца документа по его номеру.\n",
    "\n",
    "*Пример работы программы:*\n",
    "\n",
    ">Введите команду: p\n",
    "\n",
    "> Введите номер документа: 10006\n",
    "\n",
    ">Результат:\n",
    "Владелец документа: Аристарх Павлов"
   ]
  },
  {
   "cell_type": "code",
   "execution_count": 1,
   "id": "2909fabb",
   "metadata": {},
   "outputs": [],
   "source": [
    "documents = [\n",
    "    {'type': 'passport', 'number': '2207 876234', 'name': 'Василий Гупкин'},\n",
    "    {'type': 'invoice', 'number': '11-2', 'name': 'Геннадий Покемонов'},\n",
    "    {'type': 'insurance', 'number': '10006', 'name': 'Аристарх Павлов'}\n",
    "]\n",
    "\n",
    "directories = {\n",
    "    '1': ['2207 876234', '11-2'],\n",
    "    '2': ['10006'],\n",
    "    '3': []\n",
    "}"
   ]
  },
  {
   "cell_type": "code",
   "execution_count": 2,
   "id": "d426f9a8",
   "metadata": {},
   "outputs": [],
   "source": [
    "#Функция find_document\n",
    "#Ищет документ по номеру и возвращает всю информацию по нему или None, если не найден.\n",
    "\n",
    "def find_document(number):\n",
    "    for document in documents:\n",
    "        if document['number'] == number:\n",
    "            return document\n",
    "    return None"
   ]
  },
  {
   "cell_type": "code",
   "execution_count": 3,
   "id": "45191608",
   "metadata": {},
   "outputs": [
    {
     "name": "stdout",
     "output_type": "stream",
     "text": [
      "{'type': 'insurance', 'number': '10006', 'name': 'Аристарх Павлов'}\n",
      "None\n"
     ]
    }
   ],
   "source": [
    "#Проверка работы функции\n",
    "print(find_document('10006'))\n",
    "print(find_document(10006)) #не нашелся, так как номер записан в типе str, а мы задаем int "
   ]
  },
  {
   "cell_type": "code",
   "execution_count": 4,
   "id": "1f132b2a",
   "metadata": {},
   "outputs": [],
   "source": [
    "#Функция get_owner_name\n",
    "#Ищет документ по номеру и возвращает ТОЛЬКО имя владельца или None, если не найден.\n",
    "\n",
    "def get_owner_name(number):\n",
    "    document = find_document(number)#ссылаемся на предыдущую функцию, чтобы убедиться в том,\n",
    "                                    #что документ с таким номером в принципе существует\n",
    "    if document: #если документ существует, то возвращаем имя владельца\n",
    "        return document['name']\n",
    "    return None"
   ]
  },
  {
   "cell_type": "code",
   "execution_count": 5,
   "id": "44ae9429",
   "metadata": {},
   "outputs": [
    {
     "name": "stdout",
     "output_type": "stream",
     "text": [
      "Геннадий Покемонов\n",
      "None\n"
     ]
    }
   ],
   "source": [
    "#Проверка работы функции\n",
    "print(get_owner_name('11-2'))\n",
    "print(get_owner_name(112)) #не нашелся, так как документа с таким номером нет"
   ]
  },
  {
   "cell_type": "code",
   "execution_count": 7,
   "id": "e9b47ea2",
   "metadata": {},
   "outputs": [
    {
     "name": "stdout",
     "output_type": "stream",
     "text": [
      "Введите команду (p - для поиска документов, q - для выхода): p\n",
      "Введите номер документа: 10006\n",
      "Владелец документа: Аристарх Павлов\n",
      "Введите команду (p - для поиска документов, q - для выхода): q\n",
      "Поиск завершен. Произведен выход из программы\n"
     ]
    }
   ],
   "source": [
    "def task_1():\n",
    "    while True:\n",
    "        command = input(\"Введите команду (p - для поиска документов, q - для выхода): \")\n",
    "        if command == 'q':\n",
    "            print(\"Поиск завершен. Произведен выход из программы\")\n",
    "            break\n",
    "        elif command == 'p':\n",
    "            document_number = input(\"Введите номер документа: \")\n",
    "            owner = get_owner_name(document_number)\n",
    "            if owner:\n",
    "                print(f\"Владелец документа: {owner}\")\n",
    "            else:\n",
    "                print(\"Документ не найден.\")\n",
    "        else:\n",
    "            print((\"Неизвестная команда. Пожалуйста, используйте'p' или 'q'.\"))\n",
    "                  \n",
    "if __name__ == \"__main__\":\n",
    "    task_1()"
   ]
  },
  {
   "cell_type": "markdown",
   "id": "54c68a5c",
   "metadata": {},
   "source": [
    "**Задание 2**\n",
    "\n",
    "Секретарь по команде «s» может по номеру документа узнать, на какой полке документ хранится.\n",
    "\n",
    "*Пример работы программы:*\n",
    "\n",
    ">Введите команду: s\n",
    "\n",
    ">Введите номер документа:10006\n",
    "\n",
    ">Результат: Документ хранится на полке: 2"
   ]
  },
  {
   "cell_type": "code",
   "execution_count": 8,
   "id": "675c8598",
   "metadata": {},
   "outputs": [],
   "source": [
    "#Функция directory_number\n",
    "#По номеру документа определяет, к какой директории он относится или возвращает None, если документ не найден.\n",
    "def directory_number(document_number):\n",
    "    for directory, doc_number_directory in directories.items():\n",
    "        if document_number in doc_number_directory: #проверим, попадает ли номер документа в значения в словаре\n",
    "            return directory #вернем ключ = номеру директории\n",
    "    return None"
   ]
  },
  {
   "cell_type": "code",
   "execution_count": 9,
   "id": "739e9f3d",
   "metadata": {},
   "outputs": [
    {
     "name": "stdout",
     "output_type": "stream",
     "text": [
      "1\n",
      "None\n"
     ]
    }
   ],
   "source": [
    "#Проверка работы функции\n",
    "print(directory_number('2207 876234'))\n",
    "print(directory_number(112)) #не нашелся, так как документа с таким номером нет"
   ]
  },
  {
   "cell_type": "code",
   "execution_count": 10,
   "id": "dead3f06",
   "metadata": {},
   "outputs": [
    {
     "name": "stdout",
     "output_type": "stream",
     "text": [
      "Введите команду (s, - для поиска директории, q - для выхода: s\n",
      "Введите номер документа: 10006\n",
      "Документ хранится на полке: 2\n",
      "Введите команду (s, - для поиска директории, q - для выхода: q\n",
      "Поиск завершен. Произведен выход из программы\n"
     ]
    }
   ],
   "source": [
    "def task_2():\n",
    "    while True:\n",
    "        command = input(\"Введите команду (s - для поиска директории, q - для выхода: \")\n",
    "        if command == 'q':\n",
    "            print(\"Поиск завершен. Произведен выход из программы\")\n",
    "            break\n",
    "        if command == 's':\n",
    "            document_number = input(\"Введите номер документа: \")\n",
    "            directory = directory_number(document_number)\n",
    "            if directory:\n",
    "                print(f\"Документ хранится на полке: {directory}\")\n",
    "            else:\n",
    "                print(\"Документ не найден.\")\n",
    "\n",
    "        else:\n",
    "            print(\"Неизвестная команда. Пожалуйста, используйте's' или 'q'.\")\n",
    "\n",
    "if __name__ == \"__main__\":\n",
    "    task_2()"
   ]
  },
  {
   "cell_type": "markdown",
   "id": "ea557b3d",
   "metadata": {},
   "source": [
    "### Дополнительно\n",
    "Объединяем функции из заданий 1 и 2 в одну"
   ]
  },
  {
   "cell_type": "code",
   "execution_count": 11,
   "id": "e3cc31a1",
   "metadata": {},
   "outputs": [
    {
     "name": "stdout",
     "output_type": "stream",
     "text": [
      "Введите команду (p - для поиска документов, s - для поиска директории, q - для выхода): p\n",
      "Введите номер документа: 11-2\n",
      "Владелец документа: Геннадий Покемонов\n",
      "Введите команду (p - для поиска документов, s - для поиска директории, q - для выхода): s\n",
      "Введите номер документа: 11-2\n",
      "Документ хранится на полке: 1\n",
      "Введите команду (p - для поиска документов, s - для поиска директории, q - для выхода): 10006\n",
      "Неизвестная команда. Пожалуйста, используйте 'p', 's' или 'q'.\n",
      "Введите команду (p - для поиска документов, s - для поиска директории, q - для выхода): q\n",
      "Поиск завершен. Произведен выход из программы\n"
     ]
    }
   ],
   "source": [
    "def bonus():\n",
    "    while True:\n",
    "        command = input(\"Введите команду (p - для поиска документов, s - для поиска директории, q - для выхода): \")\n",
    "        if command == 'q':\n",
    "            print(\"Поиск завершен. Произведен выход из программы\")\n",
    "            break\n",
    "        if command == 'p':\n",
    "            document_number = input(\"Введите номер документа: \")\n",
    "            owner = get_owner_name(document_number)\n",
    "            if owner:\n",
    "                print(f\"Владелец документа: {owner}\")\n",
    "            else:\n",
    "                print(\"Документ не найден.\")\n",
    "        elif command == 's':\n",
    "            document_number = input(\"Введите номер документа: \")\n",
    "            directory = directory_number(document_number)\n",
    "            if directory:\n",
    "                print(f\"Документ хранится на полке: {directory}\")\n",
    "            else:\n",
    "                print(\"Документ не найден.\")\n",
    "\n",
    "        else:\n",
    "            print((\"Неизвестная команда. Пожалуйста, используйте 'p', 's' или 'q'.\"))\n",
    "                  \n",
    "if __name__ == \"__main__\":\n",
    "    bonus()"
   ]
  }
 ],
 "metadata": {
  "kernelspec": {
   "display_name": "Python 3 (ipykernel)",
   "language": "python",
   "name": "python3"
  },
  "language_info": {
   "codemirror_mode": {
    "name": "ipython",
    "version": 3
   },
   "file_extension": ".py",
   "mimetype": "text/x-python",
   "name": "python",
   "nbconvert_exporter": "python",
   "pygments_lexer": "ipython3",
   "version": "3.9.13"
  }
 },
 "nbformat": 4,
 "nbformat_minor": 5
}
