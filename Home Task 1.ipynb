{
 "cells": [
  {
   "cell_type": "markdown",
   "id": "be71a206",
   "metadata": {},
   "source": [
    "## Домашнее задание №1\n",
    "### (Адаптационный курс)"
   ]
  },
  {
   "cell_type": "markdown",
   "id": "88c6f921",
   "metadata": {},
   "source": [
    "**Задача №1**\n",
    "Дана переменная, в которой хранится четырёхзначное число (год). \n",
    "\n",
    "Необходимо написать программу, которая выведет, является этот год високосным или обычным.\n",
    "\n",
    "*Пример работы программы:*\n",
    ">year = 2020\n",
    "\n",
    ">Результат:\n",
    "Високосный год\n",
    "\n",
    ">year = 2019\n",
    "\n",
    ">Результат:\n",
    "Обычный год"
   ]
  },
  {
   "cell_type": "code",
   "execution_count": 73,
   "id": "cd953e16",
   "metadata": {},
   "outputs": [
    {
     "name": "stdout",
     "output_type": "stream",
     "text": [
      "Введите интересующий вас год, чтобы определить високосный он или нет:2024\n",
      "Високосный год\n"
     ]
    }
   ],
   "source": [
    "year = input('Введите интересующий вас год, чтобы определить високосный он или нет:')\n",
    "# не используем int, так как мы не можем проиндексировать целочисленное значение\n",
    "\n",
    "if len(year) == 4:\n",
    "    if (int(year) % 4 == 0 and int(year) % 100 != 0) or (int(year) % 400 == 0):\n",
    "        print('Високосный год') #условие выполнено\n",
    "    else: #условие НЕ выполненое\n",
    "        print('Не високосный год')\n",
    "else: print('Введен некорректный год')"
   ]
  },
  {
   "cell_type": "markdown",
   "id": "f2538920",
   "metadata": {},
   "source": [
    "**Задача №2**\n",
    "Дана переменная, в которой хранится шестизначное число (номер проездного билета). Напишите программу, которая будет определять, является ли этот билет счастливым. Билет считается счастливым, если сумма первых трёх цифр совпадает с суммой последних трёх цифр номера.\n",
    "\n",
    "*Примеры работы программы:*\n",
    "\n",
    ">number = 123456\n",
    "\n",
    ">Результат:\n",
    "Несчастливый билет\n",
    "\n",
    ">number = 123321\n",
    "\n",
    ">Результат:\n",
    "Счастливый билет"
   ]
  },
  {
   "cell_type": "code",
   "execution_count": 66,
   "id": "15d09207",
   "metadata": {},
   "outputs": [
    {
     "name": "stdout",
     "output_type": "stream",
     "text": [
      "Введите номер вашего билета, чтобы определить счастливый он или нет:777993\n",
      "Ура! Билет счастливый\n"
     ]
    }
   ],
   "source": [
    "number = input('Введите номер вашего билета, чтобы определить счастливый он или нет:')\n",
    "# не используем int, так как мы не можем проиндексировать целочисленное значение\n",
    "\n",
    "if len(number) == 6:\n",
    "    first_part = int(number[0])+ int(number[1])+int(number[2])\n",
    "    second_part = int(number[3])+int(number[4])+int(number[5])\n",
    "\n",
    "    if first_part == second_part:\n",
    "        print('Ура! Билет счастливый') #условие выполнено\n",
    "    else: #условие НЕ выполненое\n",
    "        print('Билет несчастливый. Повезет в следующий раз')\n",
    "else: print('Введен некорректный номер билета')"
   ]
  },
  {
   "cell_type": "markdown",
   "id": "84326faf",
   "metadata": {},
   "source": [
    "## Конспект с занятия"
   ]
  },
  {
   "cell_type": "markdown",
   "id": "01c330d7",
   "metadata": {},
   "source": [
    "**1. Проверка числа на четность/нечетность**\n",
    "\n",
    "В данном случае используем остаток от деления. Логика следующая: берем интересующее нас число и выполняем функцию деления через %. Она показывает остаток деления. Если остаток от деления на 2 = 0, число четное. Если 1 - нечетное.\n",
    "\n",
    "Пример в следующей ячейке:"
   ]
  },
  {
   "cell_type": "code",
   "execution_count": 4,
   "id": "c91888a9",
   "metadata": {},
   "outputs": [
    {
     "data": {
      "text/plain": [
       "1"
      ]
     },
     "execution_count": 4,
     "metadata": {},
     "output_type": "execute_result"
    }
   ],
   "source": [
    "17%2 #нечетное, так как остаток = 1"
   ]
  },
  {
   "cell_type": "code",
   "execution_count": 5,
   "id": "99c4756b",
   "metadata": {},
   "outputs": [
    {
     "data": {
      "text/plain": [
       "0"
      ]
     },
     "execution_count": 5,
     "metadata": {},
     "output_type": "execute_result"
    }
   ],
   "source": [
    "12%2 #четное, так как остаток = 0"
   ]
  },
  {
   "cell_type": "code",
   "execution_count": 9,
   "id": "74cc454f",
   "metadata": {},
   "outputs": [
    {
     "name": "stdout",
     "output_type": "stream",
     "text": [
      "Число нечетное\n"
     ]
    }
   ],
   "source": [
    "num = 17\n",
    "if num % 2 == 0:\n",
    "    print('Числое четное') #условие выполнено\n",
    "else: #условие НЕ выполненое\n",
    "    print('Число нечетное')"
   ]
  },
  {
   "cell_type": "code",
   "execution_count": 10,
   "id": "33c49871",
   "metadata": {},
   "outputs": [
    {
     "name": "stdout",
     "output_type": "stream",
     "text": [
      "Число нечетное\n"
     ]
    }
   ],
   "source": [
    "print('Числое четное') if num % 2 == 0 else print('Число нечетное')"
   ]
  },
  {
   "cell_type": "markdown",
   "id": "aeee8533",
   "metadata": {},
   "source": [
    "**2. Изменяемые и неизменяемые типы данных**"
   ]
  },
  {
   "cell_type": "code",
   "execution_count": 15,
   "id": "2e4bb91d",
   "metadata": {
    "scrolled": true
   },
   "outputs": [
    {
     "name": "stdout",
     "output_type": "stream",
     "text": [
      "140164593005952 140164593009984\n"
     ]
    }
   ],
   "source": [
    "spisok = ['Anna','Kate','Ilas']\n",
    "copy_spisok = spisok.copy() # копирование списка\n",
    "\n",
    "print(id(spisok), id(copy_spisok)) #разные  id - разные сущности\n"
   ]
  },
  {
   "cell_type": "markdown",
   "id": "a99290ba",
   "metadata": {},
   "source": [
    "**3. F-строки**\n",
    "\n",
    "Оформление результатов запросов"
   ]
  },
  {
   "cell_type": "code",
   "execution_count": 18,
   "id": "ecef7fe6",
   "metadata": {},
   "outputs": [],
   "source": [
    "year_salary = 10000"
   ]
  },
  {
   "cell_type": "code",
   "execution_count": 23,
   "id": "e68c39d5",
   "metadata": {},
   "outputs": [
    {
     "name": "stdout",
     "output_type": "stream",
     "text": [
      "Годовая зарплата: 2001, 10000, 10\n"
     ]
    }
   ],
   "source": [
    "# метод format\n",
    "\n",
    "print('Годовая зарплата: {2}, {0}, {1}'.format(year_salary, 10,2001))"
   ]
  },
  {
   "cell_type": "code",
   "execution_count": 32,
   "id": "a3a4cad2",
   "metadata": {},
   "outputs": [
    {
     "name": "stdout",
     "output_type": "stream",
     "text": [
      "Годовая зарплата: $ 10,000\n"
     ]
    }
   ],
   "source": [
    "print(f'Годовая зарплата: ${year_salary : ,}') #разбили разряды"
   ]
  },
  {
   "cell_type": "code",
   "execution_count": 43,
   "id": "f1d0f283",
   "metadata": {},
   "outputs": [
    {
     "name": "stdout",
     "output_type": "stream",
     "text": [
      "Число Пи:  3.142\n"
     ]
    }
   ],
   "source": [
    "pi = 3.1415926\n",
    "print(f'Число Пи: {pi : .3f}') #вывели 3 знака после запятой"
   ]
  }
 ],
 "metadata": {
  "kernelspec": {
   "display_name": "Python 3 (ipykernel)",
   "language": "python",
   "name": "python3"
  },
  "language_info": {
   "codemirror_mode": {
    "name": "ipython",
    "version": 3
   },
   "file_extension": ".py",
   "mimetype": "text/x-python",
   "name": "python",
   "nbconvert_exporter": "python",
   "pygments_lexer": "ipython3",
   "version": "3.9.13"
  }
 },
 "nbformat": 4,
 "nbformat_minor": 5
}
