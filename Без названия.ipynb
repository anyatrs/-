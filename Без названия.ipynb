{
 "cells": [
  {
   "cell_type": "markdown",
   "id": "9b04666f",
   "metadata": {},
   "source": [
    "## Домашнее задание №1\n",
    "### (Адаптационный курс)"
   ]
  },
  {
   "cell_type": "markdown",
   "id": "a69ffb5b",
   "metadata": {},
   "source": [
    "**Задача №1**\n",
    "Дана переменная, в которой хранится четырёхзначное число (год). \n",
    "\n",
    "Необходимо написать программу, которая выведет, является этот год високосным или обычным.\n",
    "\n",
    "*Пример работы программы:*\n",
    ">year = 2020\n",
    "\n",
    ">Результат:\n",
    "Високосный год\n",
    "\n",
    ">year = 2019\n",
    "\n",
    ">Результат:\n",
    "Обычный год"
   ]
  },
  {
   "cell_type": "code",
   "execution_count": 72,
   "id": "ff13b916",
   "metadata": {},
   "outputs": [
    {
     "name": "stdout",
     "output_type": "stream",
     "text": [
      "Введите интересующий вас год, чтобы определить високосный он или нет:12002\n",
      "Введен некорректный год\n"
     ]
    }
   ],
   "source": [
    "year = input('Введите интересующий вас год, чтобы определить високосный он или нет:')\n",
    "# не используем int, так как мы не можем проиндексировать целочисленное значение\n",
    "\n",
    "if len(year) == 4:\n",
    "    if (int(year) % 4 == 0 and int(year) % 100 != 0) or (int(year) % 400 == 0):\n",
    "        print('Високосный год') #условие выполнено\n",
    "    else: #условие НЕ выполненое\n",
    "        print('Не високосный год')\n",
    "else: print('Введен некорректный год')"
   ]
  },
  {
   "cell_type": "markdown",
   "id": "47b0ca68",
   "metadata": {},
   "source": [
    "**Задача №2**\n",
    "Дана переменная, в которой хранится шестизначное число (номер проездного билета). Напишите программу, которая будет определять, является ли этот билет счастливым. Билет считается счастливым, если сумма первых трёх цифр совпадает с суммой последних трёх цифр номера.\n",
    "\n",
    "*Примеры работы программы:*\n",
    "\n",
    ">number = 123456\n",
    "\n",
    ">Результат:\n",
    "Несчастливый билет\n",
    "\n",
    ">number = 123321\n",
    "\n",
    ">Результат:\n",
    "Счастливый билет"
   ]
  },
  {
   "cell_type": "code",
   "execution_count": 66,
   "id": "9161a86a",
   "metadata": {},
   "outputs": [
    {
     "name": "stdout",
     "output_type": "stream",
     "text": [
      "Введите номер вашего билета, чтобы определить счастливый он или нет:777993\n",
      "Ура! Билет счастливый\n"
     ]
    }
   ],
   "source": [
    "number = input('Введите номер вашего билета, чтобы определить счастливый он или нет:')\n",
    "# не используем int, так как мы не можем проиндексировать целочисленное значение\n",
    "\n",
    "if len(number) == 6:\n",
    "    first_part = int(number[0])+ int(number[1])+int(number[2])\n",
    "    second_part = int(number[3])+int(number[4])+int(number[5])\n",
    "\n",
    "    if first_part == second_part:\n",
    "        print('Ура! Билет счастливый') #условие выполнено\n",
    "    else: #условие НЕ выполненое\n",
    "        print('Билет несчастливый. Повезет в следующий раз')\n",
    "else: print('Введен некорректный номер билета')"
   ]
  },
  {
   "cell_type": "markdown",
   "id": "297c67dd",
   "metadata": {},
   "source": [
    "## Конспект с занятия"
   ]
  },
  {
   "cell_type": "markdown",
   "id": "08936d86",
   "metadata": {},
   "source": [
    "**1. Проверка числа на четность/нечетность**\n",
    "\n",
    "В данном случае используем остаток от деления. Логика следующая: берем интересующее нас число и выполняем функцию деления через %. Она показывает остаток деления. Если остаток от деления на 2 = 0, число четное. Если 1 - нечетное.\n",
    "\n",
    "Пример в следующей ячейке:"
   ]
  },
  {
   "cell_type": "code",
   "execution_count": 4,
   "id": "16d5dcc9",
   "metadata": {},
   "outputs": [
    {
     "data": {
      "text/plain": [
       "1"
      ]
     },
     "execution_count": 4,
     "metadata": {},
     "output_type": "execute_result"
    }
   ],
   "source": [
    "17%2 #нечетное, так как остаток = 1"
   ]
  },
  {
   "cell_type": "code",
   "execution_count": 5,
   "id": "86d3b046",
   "metadata": {},
   "outputs": [
    {
     "data": {
      "text/plain": [
       "0"
      ]
     },
     "execution_count": 5,
     "metadata": {},
     "output_type": "execute_result"
    }
   ],
   "source": [
    "12%2 #четное, так как остаток = 0"
   ]
  },
  {
   "cell_type": "code",
   "execution_count": 9,
   "id": "d226cff8",
   "metadata": {},
   "outputs": [
    {
     "name": "stdout",
     "output_type": "stream",
     "text": [
      "Число нечетное\n"
     ]
    }
   ],
   "source": [
    "num = 17\n",
    "if num % 2 == 0:\n",
    "    print('Числое четное') #условие выполнено\n",
    "else: #условие НЕ выполненое\n",
    "    print('Число нечетное')"
   ]
  },
  {
   "cell_type": "code",
   "execution_count": 10,
   "id": "a2079044",
   "metadata": {},
   "outputs": [
    {
     "name": "stdout",
     "output_type": "stream",
     "text": [
      "Число нечетное\n"
     ]
    }
   ],
   "source": [
    "print('Числое четное') if num % 2 == 0 else print('Число нечетное')"
   ]
  },
  {
   "cell_type": "markdown",
   "id": "976b036f",
   "metadata": {},
   "source": [
    "**2. Изменяемые и неизменяемые типы данных**"
   ]
  },
  {
   "cell_type": "code",
   "execution_count": 15,
   "id": "fce1d6b9",
   "metadata": {
    "scrolled": true
   },
   "outputs": [
    {
     "name": "stdout",
     "output_type": "stream",
     "text": [
      "140164593005952 140164593009984\n"
     ]
    }
   ],
   "source": [
    "spisok = ['Anna','Kate','Ilas']\n",
    "copy_spisok = spisok.copy() # копирование списка\n",
    "\n",
    "print(id(spisok), id(copy_spisok)) #разные  id - разные сущности\n"
   ]
  },
  {
   "cell_type": "markdown",
   "id": "24e3a730",
   "metadata": {},
   "source": [
    "**3. F-строки**\n",
    "\n",
    "Оформление результатов запросов"
   ]
  },
  {
   "cell_type": "code",
   "execution_count": 18,
   "id": "4c9b9e1b",
   "metadata": {},
   "outputs": [],
   "source": [
    "year_salary = 10000"
   ]
  },
  {
   "cell_type": "code",
   "execution_count": 23,
   "id": "f25ca9c9",
   "metadata": {},
   "outputs": [
    {
     "name": "stdout",
     "output_type": "stream",
     "text": [
      "Годовая зарплата: 2001, 10000, 10\n"
     ]
    }
   ],
   "source": [
    "# метод format\n",
    "\n",
    "print('Годовая зарплата: {2}, {0}, {1}'.format(year_salary, 10,2001))"
   ]
  },
  {
   "cell_type": "code",
   "execution_count": 32,
   "id": "5cf1ae9c",
   "metadata": {},
   "outputs": [
    {
     "name": "stdout",
     "output_type": "stream",
     "text": [
      "Годовая зарплата: $ 10,000\n"
     ]
    }
   ],
   "source": [
    "print(f'Годовая зарплата: ${year_salary : ,}') #разбили разряды"
   ]
  },
  {
   "cell_type": "code",
   "execution_count": 43,
   "id": "54c09ae6",
   "metadata": {},
   "outputs": [
    {
     "name": "stdout",
     "output_type": "stream",
     "text": [
      "Число Пи:  3.142\n"
     ]
    }
   ],
   "source": [
    "pi = 3.1415926\n",
    "print(f'Число Пи: {pi : .3f}') #вывели 3 знака после запятой"
   ]
  }
 ],
 "metadata": {
  "kernelspec": {
   "display_name": "Python 3 (ipykernel)",
   "language": "python",
   "name": "python3"
  },
  "language_info": {
   "codemirror_mode": {
    "name": "ipython",
    "version": 3
   },
   "file_extension": ".py",
   "mimetype": "text/x-python",
   "name": "python",
   "nbconvert_exporter": "python",
   "pygments_lexer": "ipython3",
   "version": "3.9.13"
  }
 },
 "nbformat": 4,
 "nbformat_minor": 5
}
