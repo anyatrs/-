{
 "cells": [
  {
   "cell_type": "markdown",
   "id": "b002a528",
   "metadata": {},
   "source": [
    "# Домашнее задание №8"
   ]
  },
  {
   "cell_type": "markdown",
   "id": "9b4a75c9",
   "metadata": {},
   "source": [
    "**Задание 1**\n",
    "\n",
    "Определите, какому фильму было выставлено больше всего оценок 5.0."
   ]
  },
  {
   "cell_type": "code",
   "execution_count": 2,
   "id": "ae6071fb",
   "metadata": {},
   "outputs": [],
   "source": [
    "#импорт необходимых библиотек\n",
    "import pandas as pd"
   ]
  },
  {
   "cell_type": "code",
   "execution_count": 3,
   "id": "ec1f3618",
   "metadata": {},
   "outputs": [],
   "source": [
    "#загрузка данных из CSV файлов\n",
    "movies_df = pd.read_csv('movies.csv')\n",
    "ratings_df = pd.read_csv('ratings.csv')"
   ]
  },
  {
   "cell_type": "code",
   "execution_count": 4,
   "id": "23a653f7",
   "metadata": {},
   "outputs": [
    {
     "name": "stdout",
     "output_type": "stream",
     "text": [
      "Первые 5 строк таблицы movies:\n",
      "   movieId                               title  \\\n",
      "0        1                    Toy Story (1995)   \n",
      "1        2                      Jumanji (1995)   \n",
      "2        3             Grumpier Old Men (1995)   \n",
      "3        4            Waiting to Exhale (1995)   \n",
      "4        5  Father of the Bride Part II (1995)   \n",
      "\n",
      "                                        genres  \n",
      "0  Adventure|Animation|Children|Comedy|Fantasy  \n",
      "1                   Adventure|Children|Fantasy  \n",
      "2                               Comedy|Romance  \n",
      "3                         Comedy|Drama|Romance  \n",
      "4                                       Comedy  \n",
      "\n",
      "Первые 5 строк таблицы ratings:\n",
      "   userId  movieId  rating  timestamp\n",
      "0       1        1     4.0  964982703\n",
      "1       1        3     4.0  964981247\n",
      "2       1        6     4.0  964982224\n",
      "3       1       47     5.0  964983815\n",
      "4       1       50     5.0  964982931\n"
     ]
    }
   ],
   "source": [
    "#знакомство с данными\n",
    "print(\"Первые 5 строк таблицы movies:\")\n",
    "print(movies_df.head())\n",
    "\n",
    "print(\"\\nПервые 5 строк таблицы ratings:\")\n",
    "print(ratings_df.head())"
   ]
  },
  {
   "cell_type": "markdown",
   "id": "6af2b4f0",
   "metadata": {},
   "source": [
    "**Примечание:** В таблицах есть \"объединяющий\" параметр movieId"
   ]
  },
  {
   "cell_type": "code",
   "execution_count": 7,
   "id": "7c2ddb86",
   "metadata": {
    "scrolled": true
   },
   "outputs": [
    {
     "data": {
      "text/html": [
       "<div>\n",
       "<style scoped>\n",
       "    .dataframe tbody tr th:only-of-type {\n",
       "        vertical-align: middle;\n",
       "    }\n",
       "\n",
       "    .dataframe tbody tr th {\n",
       "        vertical-align: top;\n",
       "    }\n",
       "\n",
       "    .dataframe thead th {\n",
       "        text-align: right;\n",
       "    }\n",
       "</style>\n",
       "<table border=\"1\" class=\"dataframe\">\n",
       "  <thead>\n",
       "    <tr style=\"text-align: right;\">\n",
       "      <th></th>\n",
       "      <th>userId</th>\n",
       "      <th>movieId</th>\n",
       "      <th>rating</th>\n",
       "      <th>timestamp</th>\n",
       "    </tr>\n",
       "  </thead>\n",
       "  <tbody>\n",
       "    <tr>\n",
       "      <th>3</th>\n",
       "      <td>1</td>\n",
       "      <td>47</td>\n",
       "      <td>5.0</td>\n",
       "      <td>964983815</td>\n",
       "    </tr>\n",
       "    <tr>\n",
       "      <th>4</th>\n",
       "      <td>1</td>\n",
       "      <td>50</td>\n",
       "      <td>5.0</td>\n",
       "      <td>964982931</td>\n",
       "    </tr>\n",
       "    <tr>\n",
       "      <th>6</th>\n",
       "      <td>1</td>\n",
       "      <td>101</td>\n",
       "      <td>5.0</td>\n",
       "      <td>964980868</td>\n",
       "    </tr>\n",
       "    <tr>\n",
       "      <th>8</th>\n",
       "      <td>1</td>\n",
       "      <td>151</td>\n",
       "      <td>5.0</td>\n",
       "      <td>964984041</td>\n",
       "    </tr>\n",
       "    <tr>\n",
       "      <th>9</th>\n",
       "      <td>1</td>\n",
       "      <td>157</td>\n",
       "      <td>5.0</td>\n",
       "      <td>964984100</td>\n",
       "    </tr>\n",
       "  </tbody>\n",
       "</table>\n",
       "</div>"
      ],
      "text/plain": [
       "   userId  movieId  rating  timestamp\n",
       "3       1       47     5.0  964983815\n",
       "4       1       50     5.0  964982931\n",
       "6       1      101     5.0  964980868\n",
       "8       1      151     5.0  964984041\n",
       "9       1      157     5.0  964984100"
      ]
     },
     "execution_count": 7,
     "metadata": {},
     "output_type": "execute_result"
    }
   ],
   "source": [
    "#отфильтруем фильмы и выведем только те, у которых рейтин = 5\n",
    "five_stars = ratings_df[ratings_df['rating'] == 5.0]\n",
    "five_stars.head() #проверка работы фильтра"
   ]
  },
  {
   "cell_type": "code",
   "execution_count": 18,
   "id": "75bcbbc7",
   "metadata": {},
   "outputs": [
    {
     "data": {
      "text/plain": [
       "movieId\n",
       "318       153\n",
       "296       123\n",
       "356       116\n",
       "2571      109\n",
       "260       104\n",
       "         ... \n",
       "6732        1\n",
       "6731        1\n",
       "6713        1\n",
       "2066        1\n",
       "187717      1\n",
       "Length: 2954, dtype: int64"
      ]
     },
     "execution_count": 18,
     "metadata": {},
     "output_type": "execute_result"
    }
   ],
   "source": [
    "#посчитаем, сколько 5-балльных оценок у каждого фильтра, сгруппировав их по ID\n",
    "five_stars_count = five_stars.groupby('movieId').size()\n",
    "five_stars_count.sort_values(ascending=False) #проверка работы группировки + cортировка по убыванию"
   ]
  },
  {
   "cell_type": "markdown",
   "id": "a8663c16",
   "metadata": {},
   "source": [
    "**Промежуточный вывод:** Фильм с ID = 318 получил больше всего оценок 5.0 (а именно 153 штуки)"
   ]
  },
  {
   "cell_type": "code",
   "execution_count": 21,
   "id": "8d526bf5",
   "metadata": {},
   "outputs": [
    {
     "name": "stdout",
     "output_type": "stream",
     "text": [
      "318\n"
     ]
    }
   ],
   "source": [
    "# найдем фильм с максимальным количеством оценок 5.0\n",
    "best_movie_id = five_stars_count.idxmax()\n",
    "print(max_five_star_movie_id)"
   ]
  },
  {
   "cell_type": "code",
   "execution_count": 26,
   "id": "20eaecd6",
   "metadata": {},
   "outputs": [
    {
     "name": "stdout",
     "output_type": "stream",
     "text": [
      "\n",
      "Фильму 'Shawshank Redemption, The (1994)' было выставлено больше всего оценок 5.0\n"
     ]
    }
   ],
   "source": [
    "#найдем название фильма по movieId\n",
    "best_movie_title = movies_df[movies_df['movieId'] == best_movie_id]['title'].values[0]\n",
    "\n",
    "#выведем название фильма\n",
    "print(f\"\\nФильму '{best_movie_title}' было выставлено больше всего оценок 5.0\")"
   ]
  },
  {
   "cell_type": "markdown",
   "id": "6f653a3d",
   "metadata": {},
   "source": [
    "**Задание 2**\n",
    "\n",
    "По данным файла power.csv посчитайте суммарное потребление стран Прибалтики (Латвия, Литва и Эстония) категорий 4, 12 и 21 за период с 2005 по 2010 год. **Не учитывайте в расчётах отрицательные значения quantity!**"
   ]
  },
  {
   "cell_type": "code",
   "execution_count": 32,
   "id": "d2b5b09c",
   "metadata": {},
   "outputs": [],
   "source": [
    "#загрузка данных из CSV файла\n",
    "power_df = pd.read_csv('power.csv')"
   ]
  },
  {
   "cell_type": "code",
   "execution_count": 33,
   "id": "1bc330bc",
   "metadata": {},
   "outputs": [
    {
     "name": "stdout",
     "output_type": "stream",
     "text": [
      "   country  year  quantity  category\n",
      "0  Austria  1996       5.0         1\n",
      "1  Austria  1995      17.0         1\n",
      "2  Belgium  2014       0.0         1\n",
      "3  Belgium  2013       0.0         1\n",
      "4  Belgium  2012      35.0         1\n"
     ]
    }
   ],
   "source": [
    "#знакомство с данными\n",
    "print(power_df.head())"
   ]
  },
  {
   "cell_type": "code",
   "execution_count": 38,
   "id": "95957743",
   "metadata": {},
   "outputs": [
    {
     "data": {
      "text/html": [
       "<div>\n",
       "<style scoped>\n",
       "    .dataframe tbody tr th:only-of-type {\n",
       "        vertical-align: middle;\n",
       "    }\n",
       "\n",
       "    .dataframe tbody tr th {\n",
       "        vertical-align: top;\n",
       "    }\n",
       "\n",
       "    .dataframe thead th {\n",
       "        text-align: right;\n",
       "    }\n",
       "</style>\n",
       "<table border=\"1\" class=\"dataframe\">\n",
       "  <thead>\n",
       "    <tr style=\"text-align: right;\">\n",
       "      <th></th>\n",
       "      <th>country</th>\n",
       "      <th>year</th>\n",
       "      <th>quantity</th>\n",
       "      <th>category</th>\n",
       "    </tr>\n",
       "  </thead>\n",
       "  <tbody>\n",
       "    <tr>\n",
       "      <th>10617</th>\n",
       "      <td>Estonia</td>\n",
       "      <td>2008</td>\n",
       "      <td>1.0</td>\n",
       "      <td>4</td>\n",
       "    </tr>\n",
       "    <tr>\n",
       "      <th>10618</th>\n",
       "      <td>Estonia</td>\n",
       "      <td>2007</td>\n",
       "      <td>0.0</td>\n",
       "      <td>4</td>\n",
       "    </tr>\n",
       "    <tr>\n",
       "      <th>10619</th>\n",
       "      <td>Estonia</td>\n",
       "      <td>2006</td>\n",
       "      <td>0.0</td>\n",
       "      <td>4</td>\n",
       "    </tr>\n",
       "    <tr>\n",
       "      <th>10620</th>\n",
       "      <td>Estonia</td>\n",
       "      <td>2005</td>\n",
       "      <td>1.0</td>\n",
       "      <td>4</td>\n",
       "    </tr>\n",
       "    <tr>\n",
       "      <th>11156</th>\n",
       "      <td>Lithuania</td>\n",
       "      <td>2008</td>\n",
       "      <td>1.0</td>\n",
       "      <td>4</td>\n",
       "    </tr>\n",
       "  </tbody>\n",
       "</table>\n",
       "</div>"
      ],
      "text/plain": [
       "         country  year  quantity  category\n",
       "10617    Estonia  2008       1.0         4\n",
       "10618    Estonia  2007       0.0         4\n",
       "10619    Estonia  2006       0.0         4\n",
       "10620    Estonia  2005       1.0         4\n",
       "11156  Lithuania  2008       1.0         4"
      ]
     },
     "execution_count": 38,
     "metadata": {},
     "output_type": "execute_result"
    }
   ],
   "source": [
    "#отфильтруем данные по странам Прибалтики и категориям\n",
    "baltic_countries = ['Latvia', 'Lithuania', 'Estonia']\n",
    "categories = [4, 12, 21]\n",
    "\n",
    "filtered_df = power_df[\n",
    "    (power_df['country'].isin(baltic_countries)) &\n",
    "    (power_df['category'].isin(categories)) &\n",
    "    (power_df['year'].between(2005, 2010)) &\n",
    "    (power_df['quantity'] >= 0)  #учитываем только положительные значения\n",
    "]\n",
    "filtered_df.head()"
   ]
  },
  {
   "cell_type": "code",
   "execution_count": 39,
   "id": "e693bc7c",
   "metadata": {},
   "outputs": [
    {
     "name": "stdout",
     "output_type": "stream",
     "text": [
      "\n",
      "Суммарное потребление стран Прибалтики (Латвия, Литва, Эстония) категорий 4, 12 и 21 за период с 2005 по 2010 год: 240580.0\n"
     ]
    }
   ],
   "source": [
    "#cуммируем данные по потреблению\n",
    "total = filtered_df['quantity'].sum()\n",
    "\n",
    "#выведем результат\n",
    "print(f\"\\nСуммарное потребление стран Прибалтики (Латвия, Литва, Эстония) категорий 4, 12 и 21 за период с 2005 по 2010 год: {total}\")"
   ]
  }
 ],
 "metadata": {
  "kernelspec": {
   "display_name": "Python 3 (ipykernel)",
   "language": "python",
   "name": "python3"
  },
  "language_info": {
   "codemirror_mode": {
    "name": "ipython",
    "version": 3
   },
   "file_extension": ".py",
   "mimetype": "text/x-python",
   "name": "python",
   "nbconvert_exporter": "python",
   "pygments_lexer": "ipython3",
   "version": "3.9.13"
  }
 },
 "nbformat": 4,
 "nbformat_minor": 5
}
