{
 "cells": [
  {
   "cell_type": "markdown",
   "id": "07e50310",
   "metadata": {},
   "source": [
    "# Домашнее задание №2\n",
    "## (Адаптационный курс)"
   ]
  },
  {
   "cell_type": "markdown",
   "id": "68f47de4",
   "metadata": {},
   "source": [
    "**Задача №1** Написать код на Python в среде Jupyter Notebook для решения следующей задачи.\n",
    "\n",
    "Дана переменная, в которой хранится слово из латинских букв. Напишите код, который выводит на экран:\n",
    "\n",
    "среднюю букву, если число букв в слове нечётное;\n",
    "две средних буквы, если число букв чётное.\n",
    "\n",
    "*Пример работы программы:*\n",
    "\n",
    ">word = 'test'\n",
    ">Результат: es \n",
    "\n",
    ">word = 'testing'\n",
    ">Результат: t"
   ]
  },
  {
   "cell_type": "code",
   "execution_count": 8,
   "id": "cb9a0ac1",
   "metadata": {},
   "outputs": [
    {
     "name": "stdout",
     "output_type": "stream",
     "text": [
      "Введите интересующее слово: test\n",
      "Средняя буква в интересующем вас слове es\n"
     ]
    }
   ],
   "source": [
    "word = input(\"Введите интересующее слово: \") #ввод слова пользователем\n",
    "length = len(word) #определяем длину слова\n",
    "\n",
    "if length % 2 == 0:\n",
    "    index_1 = length//2-1\n",
    "    index_2 = length//2\n",
    "    word_result = word[index_1]+word[index_2]\n",
    "else:\n",
    "    index = length // 2 #делим без остатка\n",
    "    word_result = word[index]\n",
    "print('Средняя буква в интересующем вас слове', word_result)"
   ]
  },
  {
   "cell_type": "markdown",
   "id": "16914ad7",
   "metadata": {},
   "source": [
    "**Задача №2** Написать код на Python в среде Jupyter Notebook для решения следующей задачи.\n",
    "\n",
    "Вы делаете MVP (минимально жизнеспособный продукт) dating-сервиса.\n",
    "У вас есть список юношей и девушек.\n",
    "Выдвигаем гипотезу: лучшие рекомендации получатся, если просто отсортировать имена по алфавиту и познакомить людей с одинаковыми индексами после сортировки. Но вы не будете никого знакомить, если кто-то может остаться без пары.\n",
    "\n",
    "\n",
    "*Пример работы программы:*\n",
    "\n",
    ">boys = ['Peter', 'Alex', 'John', 'Arthur', 'Richard'] \n",
    "\n",
    ">girls = ['Kate', 'Liza', 'Kira', 'Emma', 'Trisha'] \n",
    "\n",
    ">Результат:\n",
    "\n",
    ">Идеальные пары:\n",
    "Alex и Emma\n",
    "Arthur и Kate\n",
    "John и Kira\n",
    "Peter и Liza\n",
    "Richard и Trisha\n",
    "\n",
    ">boys = ['Peter', 'Alex', 'John', 'Arthur', 'Richard', 'Michael'] \n",
    "\n",
    ">girls = ['Kate', 'Liza', 'Kira', 'Emma', 'Trisha'] \n",
    "\n",
    ">Результат: Внимание, кто-то может остаться без пары!"
   ]
  },
  {
   "cell_type": "code",
   "execution_count": 23,
   "id": "0e136acf",
   "metadata": {},
   "outputs": [
    {
     "name": "stdout",
     "output_type": "stream",
     "text": [
      "Идеальные пары:\n",
      "Alex и Emma\n",
      "Arthur и Kate\n",
      "John и Kira\n",
      "Peter и Liza\n",
      "Richard и Trisha\n"
     ]
    }
   ],
   "source": [
    "#Использовать для сценария №1\n",
    "boys = ['Peter', 'Alex', 'John', 'Arthur', 'Richard']\n",
    "girls = ['Kate', 'Liza', 'Kira', 'Emma', 'Trisha']\n",
    "\n",
    "#Использовать для сценария №2\n",
    "#boys = ['Peter', 'Alex', 'John', 'Arthur', 'Richard', 'Michael'] \n",
    "#girls = ['Kate', 'Liza', 'Kira', 'Emma', 'Trisha'] \n",
    "\n",
    "if len (boys) != len(girls):\n",
    "    print('Внимание, кто-то может остаться без пары!')\n",
    "else:\n",
    "    girls.sort()\n",
    "    boys.sort()\n",
    "    couples = zip(boys, girls)#объединили мальчиков и девочек по принципу\n",
    "    #девочка [1] + мальчик[1]\n",
    "    print('Идеальные пары:')\n",
    "    for boy, girl in couples:\n",
    "        print(f'{boy} и {girl}')"
   ]
  }
 ],
 "metadata": {
  "kernelspec": {
   "display_name": "Python 3 (ipykernel)",
   "language": "python",
   "name": "python3"
  },
  "language_info": {
   "codemirror_mode": {
    "name": "ipython",
    "version": 3
   },
   "file_extension": ".py",
   "mimetype": "text/x-python",
   "name": "python",
   "nbconvert_exporter": "python",
   "pygments_lexer": "ipython3",
   "version": "3.9.13"
  }
 },
 "nbformat": 4,
 "nbformat_minor": 5
}
