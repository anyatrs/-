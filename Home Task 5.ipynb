{
 "cells": [
  {
   "cell_type": "markdown",
   "id": "6476235b",
   "metadata": {},
   "source": [
    "# **Домашнее задание №5**"
   ]
  },
  {
   "cell_type": "markdown",
   "id": "addf5551",
   "metadata": {},
   "source": [
    "**Задание 1**\n",
    "\n",
    "Печатные газеты использовали свой формат дат для каждого выпуска. Для каждой газеты из списка напишите формат указанной даты для перевода в объект datetime:\n",
    "The Moscow Times — Wednesday, October 2, 2002\n",
    "The Guardian — Friday, 11.10.13\n",
    "Daily News — Thursday, 18 August 1977\n",
    "\n",
    "*Пример работы программы*\n",
    ">Программа должна выводить на экран объекты типа datetime, соответствующие датам в условии задачи."
   ]
  },
  {
   "cell_type": "code",
   "execution_count": 1,
   "id": "624a52a3",
   "metadata": {},
   "outputs": [],
   "source": [
    "#импорт необходимых библиотек\n",
    "from datetime import datetime"
   ]
  },
  {
   "cell_type": "code",
   "execution_count": 2,
   "id": "6355bd80",
   "metadata": {},
   "outputs": [],
   "source": [
    "#создадим словарь для хранения дат\n",
    "dates = {\n",
    "    \"The Moscow Times\": \"Wednesday, October 2, 2002\",\n",
    "    \"The Guardian\": \"Friday, 11.10.13\",\n",
    "    \"Daily News\": \"Thursday, 18 August 1977\"\n",
    "}"
   ]
  },
  {
   "cell_type": "code",
   "execution_count": 3,
   "id": "007136bc",
   "metadata": {},
   "outputs": [],
   "source": [
    "#создадм словарь для хранения форматов дат, актуальных для каждой газеты\n",
    "formats = {\n",
    "    \"The Moscow Times\": \"%A, %B %d, %Y\",\n",
    "    \"The Guardian\": \"%A, %d.%m.%y\",\n",
    "    \"Daily News\": \"%A, %d %B %Y\"\n",
    "}"
   ]
  },
  {
   "cell_type": "code",
   "execution_count": 4,
   "id": "2038849d",
   "metadata": {},
   "outputs": [
    {
     "name": "stdout",
     "output_type": "stream",
     "text": [
      "The Moscow Times: 2002-10-02 00:00:00\n",
      "The Guardian: 2013-10-11 00:00:00\n",
      "Daily News: 1977-08-18 00:00:00\n"
     ]
    }
   ],
   "source": [
    "#преоразуем строки в datetime и выведем их\n",
    "for newspaper_name, date_string in dates.items():\n",
    "    date_format = formats[newspaper_name]\n",
    "    date_object = datetime.strptime(date_string, date_format)\n",
    "    print(f\"{newspaper_name}: {date_object}\")"
   ]
  }
 ],
 "metadata": {
  "kernelspec": {
   "display_name": "Python 3 (ipykernel)",
   "language": "python",
   "name": "python3"
  },
  "language_info": {
   "codemirror_mode": {
    "name": "ipython",
    "version": 3
   },
   "file_extension": ".py",
   "mimetype": "text/x-python",
   "name": "python",
   "nbconvert_exporter": "python",
   "pygments_lexer": "ipython3",
   "version": "3.9.13"
  }
 },
 "nbformat": 4,
 "nbformat_minor": 5
}
