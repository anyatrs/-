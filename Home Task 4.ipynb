{
 "cells": [
  {
   "cell_type": "markdown",
   "id": "180ab6b9",
   "metadata": {},
   "source": [
    "# Домашнее задание №4\n"
   ]
  },
  {
   "cell_type": "markdown",
   "id": "eef2e292",
   "metadata": {},
   "source": [
    "**Задание 1**\n",
    "\n",
    "Переведите содержимое файла purchase_log.txt в словарь purchases вида:{‘1840e0b9d4’: ‘Продукты’, …}\n",
    "\n",
    "*Пример работы программы при выводе первых двух элементов словаря purchases:*\n",
    "\n",
    ">1840e0b9d4 ‘Продукты‘\n",
    "\n",
    ">4e4f90fcfb ‘Электроника‘"
   ]
  },
  {
   "cell_type": "code",
   "execution_count": 1,
   "id": "89e217e9",
   "metadata": {},
   "outputs": [],
   "source": [
    "#импорт необходимых библиотек\n",
    "import json"
   ]
  },
  {
   "cell_type": "code",
   "execution_count": 2,
   "id": "7ea0e8ee",
   "metadata": {},
   "outputs": [],
   "source": [
    "#создадим словарь, в котором будем хранить данные о клиентах и их покупках\n",
    "purchases = {}"
   ]
  },
  {
   "cell_type": "code",
   "execution_count": 3,
   "id": "6de22d0f",
   "metadata": {},
   "outputs": [
    {
     "name": "stdout",
     "output_type": "stream",
     "text": [
      "{\"user_id\": \"user_id\", \"category\": \"category\"}\n",
      "{\"category\": \"Продукты\", \"user_id\": \"1840e0b9d4\"}\n"
     ]
    }
   ],
   "source": [
    "#изучим содержимое txt-файла, откроем и прочитаем его построчно\n",
    "with open('purchase_log.txt', 'r', encoding='utf-8') as file:\n",
    "    for _ in range(2): #читаем первые две строки\n",
    "        line = file.readline().strip()\n",
    "        print(line)\n",
    "    file.seek(0) #вернемся в начало файла и пропустим заголовок\n",
    "    file.readline() #пропуск заголовка\n",
    "    #перенесем данные из txt файла в наш словарь\n",
    "    for line in file:\n",
    "        purchase = json.loads(line.strip())\n",
    "        purchases[purchase['user_id']] = purchase['category']#добавляем в словарь user_id и category товаров"
   ]
  },
  {
   "cell_type": "markdown",
   "id": "a3e79a2b",
   "metadata": {},
   "source": [
    "В примере работы программы **при выводе первых 2 элементов НЕ учитывается строка с заголовками.**\n",
    "Чтобы учесть эту особенность в нашем решении были добавлены следующие шаги:\n",
    "\n",
    "`file.seek(0) #вернемся в начало файла и пропустим заголовок`\n",
    "\n",
    "`file.readline() #пропуск заголовка`"
   ]
  },
  {
   "cell_type": "code",
   "execution_count": 4,
   "id": "197ab984",
   "metadata": {},
   "outputs": [
    {
     "name": "stdout",
     "output_type": "stream",
     "text": [
      "1840e0b9d4 'Продукты'\n",
      "4e4f90fcfb 'Электроника'\n"
     ]
    }
   ],
   "source": [
    "#выведем первые два элемента созданного нами словаря \n",
    "for user_id, category in list(purchases.items())[:2]:\n",
    "    print(f\"{user_id} '{category}'\")"
   ]
  },
  {
   "cell_type": "markdown",
   "id": "7b9756c0",
   "metadata": {},
   "source": [
    "**Задание 2**\n",
    "\n",
    "**(необязательное)**\n",
    "\n",
    "Для каждого user_id в файле visit_log.csv определите третий столбец с категорией покупки. Если покупка была, сам файл visit_log.csv изменять не надо.\n",
    "\n",
    "Запишите в файл funnel.csv визиты из файла visit_log.csv, в которых были покупки с указанием категории.\n",
    "\n",
    "Учтите условия для данных:\n",
    "\n",
    "● содержимое purchase_log.txt помещается в оперативную память компьютера;\n",
    "● содержимое visit_log.csv — нет, используйте только построчную обработку этого файла.\n",
    "\n",
    "\n",
    "*Примеры работы программы при выводе первых трёх строк файла funnel.csv:*\n",
    "\n",
    ">user_id,source,category\n",
    "\n",
    ">1840e0b9d4,other,Продукты\n",
    "\n",
    ">4e4f90fcfb,context,Электроника"
   ]
  },
  {
   "cell_type": "code",
   "execution_count": 5,
   "id": "e51577a5",
   "metadata": {},
   "outputs": [],
   "source": [
    "#импорт необходимых библиотек\n",
    "#import json #импортирован ранее\n",
    "import csv"
   ]
  },
  {
   "cell_type": "code",
   "execution_count": 6,
   "id": "2d6635d9",
   "metadata": {},
   "outputs": [],
   "source": [
    "# откроем файл visit_log.csv для построчного чтения и создадим файл funnel.csv для записи в него данных\n",
    "with open('visit_log.csv', 'r', encoding='utf-8') as visit_file, open('funnel.csv', 'w', newline='', encoding='utf-8') as funnel_file:\n",
    "    writer = csv.writer(funnel_file)\n",
    "   \n",
    "    #добавим заголовок\n",
    "    writer.writerow(['user_id', 'source', 'category'])\n",
    "   \n",
    "    #читаем visit_log.csv построчно\n",
    "    reader = csv.reader(visit_file)\n",
    "    for row in reader:\n",
    "        user_id = row[0]\n",
    "        source = row[1]\n",
    "        \n",
    "        # проверяем, есть ли у user_id категория покупки\n",
    "        category = purchases.get(user_id)\n",
    "        \n",
    "        # если категория найдена, записываем в funnel.csv\n",
    "        if category:\n",
    "            writer.writerow([user_id, source, category]) "
   ]
  },
  {
   "cell_type": "code",
   "execution_count": 7,
   "id": "babd8f54",
   "metadata": {},
   "outputs": [
    {
     "name": "stdout",
     "output_type": "stream",
     "text": [
      "user_id,source,category\n",
      "1840e0b9d4,other,Продукты\n",
      "4e4f90fcfb,context,Электроника\n"
     ]
    }
   ],
   "source": [
    "#прочитаем первые три строки из созданного файла funnel.csv\n",
    "with open('funnel.csv', 'r', encoding='utf-8') as funnel_file:\n",
    "    for _ in range(3):\n",
    "        line = funnel_file.readline().strip()\n",
    "        print(line)"
   ]
  }
 ],
 "metadata": {
  "kernelspec": {
   "display_name": "Python 3 (ipykernel)",
   "language": "python",
   "name": "python3"
  },
  "language_info": {
   "codemirror_mode": {
    "name": "ipython",
    "version": 3
   },
   "file_extension": ".py",
   "mimetype": "text/x-python",
   "name": "python",
   "nbconvert_exporter": "python",
   "pygments_lexer": "ipython3",
   "version": "3.9.13"
  }
 },
 "nbformat": 4,
 "nbformat_minor": 5
}
