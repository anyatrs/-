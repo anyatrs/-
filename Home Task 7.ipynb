{
 "cells": [
  {
   "cell_type": "markdown",
   "id": "b3e7d98f",
   "metadata": {},
   "source": [
    "# Домашнее задание №7"
   ]
  },
  {
   "cell_type": "markdown",
   "id": "337b5864",
   "metadata": {},
   "source": [
    "**Задание 1**\n",
    "\n",
    "Напишите функцию, которая принимает на вход строку и проверяет, является ли она валидным транспортным номером (1 буква, 3 цифры, 2 буквы, 2–3 цифры). Обратите внимание, что не все буквы кириллического алфавита используются в транспортных номерах.\n",
    "\n",
    "Если номер валиден, то функция должна возвращать отдельно номер и регион.\n",
    "\n",
    "* Примеры работы программы:* \n",
    "\n",
    ">car_id = 'А222BС96’\n",
    "\n",
    ">Результат: Номер А222BС валиден. Регион: 96.\n",
    "_____________________________________________\n",
    "\n",
    ">car_id = 'АБ22ВВ193’\n",
    "\n",
    ">Результат: Номер не валиден."
   ]
  },
  {
   "cell_type": "code",
   "execution_count": 1,
   "id": "5b2e240a",
   "metadata": {},
   "outputs": [],
   "source": [
    "#импорт необходимых библиотек\n",
    "import re"
   ]
  },
  {
   "cell_type": "code",
   "execution_count": 6,
   "id": "6eac5d90",
   "metadata": {},
   "outputs": [],
   "source": [
    "def car_id_check(car_id):\n",
    "    number_pattern = r'^[АВЕКМНОРСТУХABCEHKMOPTY]{1}\\d{3}[АВЕКМНОРСТУХABCEHKMOPTY]{2}\\d{2,3}$'\n",
    "    \n",
    "    #проверяем номер на его соответствие \"шаблону\"\n",
    "    if re.match(number_pattern, car_id):\n",
    "        number = car_id[:-2]  #учитываем все, кроме кода региона (он всегда из 2 или 3 цифр)\n",
    "        region = car_id[-2:] if len(car_id) >= 8 else car_id[-3:]  # код региона\n",
    "        return f'Номер {number} валиден. Регион: {region}.'\n",
    "    else:\n",
    "        return 'Номер не валиден.'"
   ]
  },
  {
   "cell_type": "code",
   "execution_count": 10,
   "id": "21877163",
   "metadata": {},
   "outputs": [
    {
     "name": "stdout",
     "output_type": "stream",
     "text": [
      "Номер А222ВС валиден. Регион: 96.\n",
      "Номер A222BC валиден. Регион: 96.\n",
      "Номер не валиден.\n"
     ]
    }
   ],
   "source": [
    "# проверим работу функции\n",
    "car_id_1_ru = 'А222ВС96'\n",
    "print(car_id_check(car_id_1_ru))  #буквы на русском языке!!!\n",
    "\n",
    "car_id_1_eng = 'A222BC96'\n",
    "print(car_id_check(car_id_1_eng))  #буквы на английском языке!!!\n",
    "\n",
    "car_id_2 = 'АБ22ВВ193'\n",
    "print(car_id_check(car_id_2))  # Номер не валиден."
   ]
  }
 ],
 "metadata": {
  "kernelspec": {
   "display_name": "Python 3 (ipykernel)",
   "language": "python",
   "name": "python3"
  },
  "language_info": {
   "codemirror_mode": {
    "name": "ipython",
    "version": 3
   },
   "file_extension": ".py",
   "mimetype": "text/x-python",
   "name": "python",
   "nbconvert_exporter": "python",
   "pygments_lexer": "ipython3",
   "version": "3.9.13"
  }
 },
 "nbformat": 4,
 "nbformat_minor": 5
}
