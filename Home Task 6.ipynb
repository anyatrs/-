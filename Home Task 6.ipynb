{
 "cells": [
  {
   "cell_type": "markdown",
   "id": "6049ca0a",
   "metadata": {},
   "source": [
    " # Домашнее задание №6"
   ]
  },
  {
   "cell_type": "markdown",
   "id": "c3722c8d",
   "metadata": {},
   "source": [
    "**Задание 1**\n",
    "\n",
    "Напишите код, который возвращает название валюты (поле Name) с максимальным значением курса с помощью сервиса: https://www.cbr-xml-daily.ru/daily_json.js\n",
    "\n",
    "Можно реализовать как с помощью класса из материалов занятия, так и без него.\n",
    "\n",
    "*Пример работы программы (зависит от текущих курсов валют):*\n",
    "\n",
    ">китайские юани."
   ]
  },
  {
   "cell_type": "code",
   "execution_count": 9,
   "id": "166aa8b1",
   "metadata": {},
   "outputs": [],
   "source": [
    "#произведем импорт необходимых библиотек\n",
    "import requests"
   ]
  },
  {
   "cell_type": "code",
   "execution_count": 10,
   "id": "b1891501",
   "metadata": {},
   "outputs": [],
   "source": [
    "class Rate:\n",
    "    \"\"\"\n",
    "    Класс из материалов заняти\n",
    "    \"\"\"\n",
    "    def __init__(self, format_='value'):\n",
    "        self.format = format_\n",
    "    \n",
    "    def exchange_rates(self):\n",
    "        \"\"\"\n",
    "        Возвращает ответ сервиса с информацией о валютах в виде:\n",
    "        \n",
    "        {\n",
    "            'AMD': {\n",
    "                'CharCode': 'AMD',\n",
    "                'ID': 'R01060',\n",
    "                'Name': 'Армянских драмов',\n",
    "                'Nominal': 100,\n",
    "                'NumCode': '051',\n",
    "                'Previous': 14.103,\n",
    "                'Value': 14.0879\n",
    "                },\n",
    "            ...\n",
    "        }\n",
    "        \"\"\"\n",
    "        self.r = requests.get('https://www.cbr-xml-daily.ru/daily_json.js')\n",
    "        return self.r.json()['Valute']\n",
    "    \n",
    "    def make_format(self, currency):\n",
    "        \"\"\"\n",
    "        Возвращает информацию о валюте currency в двух вариантах:\n",
    "        - полная информация о валюте при self.format = 'full':\n",
    "        Rate('full').make_format('EUR')\n",
    "        {\n",
    "            'CharCode': 'EUR',\n",
    "            'ID': 'R01239',\n",
    "            'Name': 'Евро',\n",
    "            'Nominal': 1,\n",
    "            'NumCode': '978',\n",
    "            'Previous': 79.6765,\n",
    "            'Value': 79.4966\n",
    "        }\n",
    "        \n",
    "        Rate('value').make_format('EUR')\n",
    "        79.4966\n",
    "        \"\"\"\n",
    "        response = self.exchange_rates()\n",
    "        \n",
    "        if currency in response:\n",
    "            if self.format == 'full':\n",
    "                return response[currency]\n",
    "            \n",
    "            if self.format == 'value':\n",
    "                return response[currency]['Value']\n",
    "        \n",
    "        return 'Error'\n",
    "    \n",
    "    def get_currency_with_max_value(self):\n",
    "        \"\"\"\n",
    "        Возвращает название валюты с максимальным значением курса.\n",
    "        \"\"\"\n",
    "        response = self.exchange_rates()\n",
    "        max_value = 0\n",
    "        max_currency_name = \"\"\n",
    "\n",
    "        for currency in response.values():\n",
    "            if currency['Value'] > max_value:\n",
    "                max_value = currency['Value']\n",
    "                max_currency_name = currency['Name']\n",
    "\n",
    "        return max_currency_name"
   ]
  },
  {
   "cell_type": "code",
   "execution_count": 11,
   "id": "ef1c2947",
   "metadata": {},
   "outputs": [
    {
     "name": "stdout",
     "output_type": "stream",
     "text": [
      "Валюта с максимальным курсом: СДР (специальные права заимствования)\n"
     ]
    }
   ],
   "source": [
    "#получим данные по валюте с максимальным курсом на данный момент времени\n",
    "rate = Rate()\n",
    "max_currency_name = rate.get_currency_with_max_value()\n",
    "print(f'Валюта с максимальным курсом: {max_currency_name}')"
   ]
  },
  {
   "cell_type": "markdown",
   "id": "315af281",
   "metadata": {},
   "source": [
    "**Задание 2**\n",
    "\n",
    "Добавьте в класс Rate параметр diff (со значениями True или False), который, в случае значения True в методах курсов валют (eur, usd и т. д.), будет возвращать не курс валюты, а изменение по сравнению с прошлым значением. Считайте, что значение diff=True параметр будет принимать только при возврате значения курса (format_=‘value’). При отображении всей информации о валюте (format_=‘full’) он не используется.\n",
    "\n",
    "*Примеры работы программы:*\n",
    "\n",
    ">r = Rate(diff=True)\n",
    "\n",
    ">r.usd()\n",
    "\n",
    ">Результат (зависит от текущего курса):\n",
    "-0.013721\n",
    "\n",
    "__________________________________________\n",
    "\n",
    ">r = Rate(diff=False)\n",
    "\n",
    "> r.usd()\n",
    "\n",
    ">Результат (зависит от текущего курса):\n",
    "60.5748"
   ]
  },
  {
   "cell_type": "code",
   "execution_count": null,
   "id": "09cc260b",
   "metadata": {},
   "outputs": [],
   "source": [
    "#произведем импорт необходимых библиотек\n",
    "#import requests #импортирован ранее"
   ]
  },
  {
   "cell_type": "code",
   "execution_count": 12,
   "id": "21845ab9",
   "metadata": {},
   "outputs": [],
   "source": [
    "class Rate:\n",
    "    \"\"\"\n",
    "    Класс для работы с курсами валют.\n",
    "    \"\"\"\n",
    "    def __init__(self, format_='value', diff=False):\n",
    "        self.format = format_\n",
    "        self.diff = diff\n",
    "\n",
    "    def exchange_rates(self):\n",
    "        \"\"\"\n",
    "        Возвращает ответ сервиса с информацией о валютах в виде:\n",
    "        {\n",
    "            'AMD': {\n",
    "                'CharCode': 'AMD',\n",
    "                'ID': 'R01060',\n",
    "                'Name': 'Армянских драмов',\n",
    "                'Nominal': 100,\n",
    "                'NumCode': '051',\n",
    "                'Previous': 14.103,\n",
    "                'Value': 14.0879\n",
    "                },\n",
    "            ...\n",
    "        }\n",
    "        \"\"\"\n",
    "        response = requests.get('https://www.cbr-xml-daily.ru/daily_json.js')\n",
    "        return response.json()['Valute']\n",
    "\n",
    "    def make_format(self, currency):\n",
    "        \"\"\"\n",
    "        Возвращает информацию о валюте currency в двух вариантах.\n",
    "        - полная информация о валюте при self.format = 'full'.\n",
    "        - значение курса или изменение при self.format = 'value'.\n",
    "        \"\"\"\n",
    "        response = self.exchange_rates()\n",
    "        \n",
    "        if currency in response:\n",
    "            if self.format == 'full':\n",
    "                return response[currency]\n",
    "            \n",
    "            if self.format == 'value':\n",
    "                if self.diff:\n",
    "                    # Возвращаем изменение курса по сравнению с предыдущим\n",
    "                    return round(response[currency]['Value'] - response[currency]['Previous'], 6)\n",
    "                else:\n",
    "                    return round(response[currency]['Value'], 4)\n",
    "\n",
    "        return 'Error'\n",
    "\n",
    "    def eur(self):\n",
    "        \"\"\"Возвращает курс евро на сегодня в формате self.format\"\"\"\n",
    "        return self.make_format('EUR')\n",
    "    \n",
    "    def usd(self):\n",
    "        \"\"\"Возвращает курс доллара на сегодня в формате self.format\"\"\"\n",
    "        return self.make_format('USD')\n",
    "    \n",
    "    def brl(self):\n",
    "        \"\"\"Возвращает курс бразильского реала на сегодня в формате self.format\"\"\"\n",
    "        return self.make_format('BRL')"
   ]
  },
  {
   "cell_type": "code",
   "execution_count": 14,
   "id": "93d9a58c",
   "metadata": {},
   "outputs": [
    {
     "name": "stdout",
     "output_type": "stream",
     "text": [
      "Изменение курса USD: -0.5195\n",
      "Курс USD: 103.4305\n"
     ]
    }
   ],
   "source": [
    "#получим информацию по курсу доллара с использованием парамера diff\n",
    "r = Rate(diff=True)\n",
    "print(f'Изменение курса USD: {r.usd()}')\n",
    "\n",
    "r = Rate(diff=False)\n",
    "print(f'Курс USD: {r.usd()}')"
   ]
  }
 ],
 "metadata": {
  "kernelspec": {
   "display_name": "Python 3 (ipykernel)",
   "language": "python",
   "name": "python3"
  },
  "language_info": {
   "codemirror_mode": {
    "name": "ipython",
    "version": 3
   },
   "file_extension": ".py",
   "mimetype": "text/x-python",
   "name": "python",
   "nbconvert_exporter": "python",
   "pygments_lexer": "ipython3",
   "version": "3.9.13"
  }
 },
 "nbformat": 4,
 "nbformat_minor": 5
}
